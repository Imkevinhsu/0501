{
 "cells": [
  {
   "cell_type": "code",
   "execution_count": null,
   "metadata": {},
   "outputs": [
    {
     "name": "stdout",
     "output_type": "stream",
     "text": [
      "請輸入計算式6+9+6\n",
      "21\n",
      "請輸入計算式9*8+6*8\n",
      "120\n",
      "請輸入計算式1-6\n",
      "-5\n"
     ]
    }
   ],
   "source": [
    "def calculation(a):\n",
    "    return eval(a)\n",
    "while True:\n",
    "    value=input(\"請輸入計算式\")\n",
    "    print(calculation(value))"
   ]
  }
 ],
 "metadata": {
  "kernelspec": {
   "display_name": "Python 3",
   "language": "python",
   "name": "python3"
  },
  "language_info": {
   "codemirror_mode": {
    "name": "ipython",
    "version": 3
   },
   "file_extension": ".py",
   "mimetype": "text/x-python",
   "name": "python",
   "nbconvert_exporter": "python",
   "pygments_lexer": "ipython3",
   "version": "3.7.2"
  }
 },
 "nbformat": 4,
 "nbformat_minor": 2
}
